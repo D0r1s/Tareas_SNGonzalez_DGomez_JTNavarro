{
 "cells": [
  {
   "cell_type": "markdown",
   "metadata": {},
   "source": [
    "<img style=\"float: left; margin: 30px 15px 15px 15px;\" src=\"https://pngimage.net/wp-content/uploads/2018/06/logo-iteso-png-5.png\" width=\"300\" height=\"500\" /> \n",
    "    \n",
    "    \n",
    "### <font color='navy'> Simulación de procesos financieros. \n",
    "\n",
    "**Nombres:** Sean Nicolás González Vázquez y Doris Gomez Contreras.\n",
    "\n",
    "**Fecha:** 15 de octubre del 2020.\n",
    "\n",
    "**Expediente** : 720083, 713897.\n",
    "**Profesor:** Oscar David Jaramillo Zuluaga.\n",
    "\n",
    "# Tarea 6. Distribuciones de Probabilidad"
   ]
  },
  {
   "cell_type": "markdown",
   "metadata": {},
   "source": [
    "### El link donde se evidencia el trabajo es el siguiente: [GitHub Repositorio](https://github.com/nicoglez/Tareas_SNGonzalez_DGomez)"
   ]
  },
  {
   "cell_type": "markdown",
   "metadata": {},
   "source": [
    "## Enunciado de tarea \n",
    "\n",
    ">1.Suponer que $T$ distribuye beta donde la media es $\\mu_p$ y varianza $\\sigma_p^2$ y responder cual es la probabilidad $P(T\\leq d)$.\n",
    "\n",
    "> **Ayuda**: - Aprender a utlizar el solucionador de ecuaciones no lineales https://stackoverflow.com/questions/19843116/passing-arguments-to-fsolve\n",
    "- Leer el help de la función beta del paquete estadístico para aprender a graficar funciones beta en un intervalo diferente a 0 y 1.\n",
    "\n",
    ">2.Suponer que $T$ distribuye triangular donde el valor mas probable es $\\mu_p$ el valor pesimista es $p=49$ y el valor optimista es $o=40$ y responder cual es la probabilidad $P(T\\leq d)$. Nuevamente aprender a graficar una función triangular en un intervalro [a,b], usando el help.\n"
   ]
  },
  {
   "cell_type": "code",
   "execution_count": 1,
   "metadata": {},
   "outputs": [],
   "source": [
    "# Importacion de librerias\n",
    "import numpy as np\n",
    "import scipy.stats as st\n",
    "import matplotlib.pyplot as plt\n",
    "from scipy.optimize import fsolve\n",
    "\n",
    "%matplotlib inline"
   ]
  },
  {
   "cell_type": "markdown",
   "metadata": {},
   "source": [
    "# Solucion de los Ejercicios"
   ]
  },
  {
   "cell_type": "markdown",
   "metadata": {},
   "source": [
    ">**Ejercicio 1**.Suponer que $T$ distribuye beta donde la media es $\\mu_p$ y varianza $\\sigma_p^2$ y responder cual es la probabilidad $P(T\\leq d)$.\n",
    "\n",
    "> **Ayuda**: - Aprender a utlizar el solucionador de ecuaciones no lineales https://stackoverflow.com/questions/19843116/passing-arguments-to-fsolve\n",
    "- Leer el help de la función beta del paquete estadístico para aprender a graficar funciones beta en un intervalo diferente a 0 y 1."
   ]
  },
  {
   "cell_type": "markdown",
   "metadata": {},
   "source": [
    "### Solucion Nicolas"
   ]
  },
  {
   "cell_type": "code",
   "execution_count": 2,
   "metadata": {},
   "outputs": [
    {
     "data": {
      "text/plain": [
       "(0.543209876543222, 0.67901234567902)"
      ]
     },
     "execution_count": 2,
     "metadata": {},
     "output_type": "execute_result"
    }
   ],
   "source": [
    "# Definir condiciones iniciales\n",
    "mu_p = 44; sigma_p = 9; d = 47; a = 40 ; b = 49\n",
    "\n",
    "# Utilizar solucionador de ecuaciones no lineales para encontrar los valores de la ecuacion\n",
    "def Betad(p: ' Parametros de Alpha y Beta en una tupla'):\n",
    "    '''Funcion para encontrrar la alpha y la beta de una distribucion beta con fsolve'''\n",
    "    Alpha, Beta = p\n",
    "    return (((a*Beta+b*Alpha)/(Alpha + Beta)) - mu_p, (Alpha*Beta*(b-a)**2)/ ((Alpha+Beta)**2*(1+Alpha+Beta)) - sigma_p)\n",
    "\n",
    "Alpha, Beta =  fsolve(Betad, (0.1,4))\n",
    "\n",
    "Alpha, Beta"
   ]
  },
  {
   "cell_type": "code",
   "execution_count": 3,
   "metadata": {},
   "outputs": [
    {
     "name": "stdout",
     "output_type": "stream",
     "text": [
      "La media con la Alpha y Beta encontradas es  44.00000000000003\n",
      "La varianza con la Alpha y Beta encontradas es  8.999999999999932\n"
     ]
    }
   ],
   "source": [
    "# Comprobar que los parametros obtenidos son correctos (tiene que dar lo mismo que la mu y sigma que tenemos)\n",
    "print('La media con la Alpha y Beta encontradas es ', (a*Beta+b*Alpha)/(Alpha + Beta))\n",
    "print('La varianza con la Alpha y Beta encontradas es ', (Alpha*Beta*(b-a)**2)/ ((Alpha+Beta)**2*(1+Alpha+Beta)))"
   ]
  },
  {
   "cell_type": "code",
   "execution_count": 15,
   "metadata": {},
   "outputs": [
    {
     "data": {
      "image/png": "[encoded data removed]",
      "text/plain": [
       "<Figure size 900x288 with 2 Axes>"
      ]
     },
     "metadata": {
      "needs_background": "light"
     },
     "output_type": "display_data"
    }
   ],
   "source": [
    "# Obtener la probability density function de la distribucion dados los parametros\n",
    "x = np.arange(a,b,0.01)\n",
    "beta_pdf = st.beta.pdf(x, a = Alpha, b = Beta, loc = a, scale = b-a)\n",
    "# obtener la distribucion de probabilidad acumulada\n",
    "beta_cdf = st.beta.cdf(x, a = Alpha, b = Beta, loc = a, scale = b-a)\n",
    "\n",
    "# subplots\n",
    "fig,(ax1,ax2) = plt.subplots(1,2)\n",
    "fig.set_figwidth(12.5)\n",
    "\n",
    "# grafica PDF\n",
    "ax1.plot(x,beta_pdf,c='magenta')\n",
    "ax1.set_title('PROBABILITY DENSITY FUNCTION')\n",
    "plt.grid()\n",
    "\n",
    "# grafica CDF\n",
    "ax2.plot(x,beta_cdf,c='magenta')\n",
    "ax2.set_title('CUMULATIVE DISTRIBUTION FUNCTION')\n",
    "plt.grid()\n",
    "\n",
    "plt.show()"
   ]
  },
  {
   "cell_type": "code",
   "execution_count": 5,
   "metadata": {},
   "outputs": [
    {
     "name": "stdout",
     "output_type": "stream",
     "text": [
      "P(T<=47)= 0.7677251926229143\n"
     ]
    }
   ],
   "source": [
    "# Obtener la probabilidad de acabar la construccion en 47 semanas, distribucion beta\n",
    "P_beta = st.beta(a = Alpha, b = Beta, loc = a, scale = b-a).cdf(d)\n",
    "print('P(T<=47)=',P_beta)"
   ]
  },
  {
   "cell_type": "markdown",
   "metadata": {},
   "source": [
    "### **La probabilidad de acabar la construccion en 47 semanas, segun la distribucion beta es de 76.77%**"
   ]
  },
  {
   "cell_type": "markdown",
   "metadata": {},
   "source": [
    "### Solucion Doris"
   ]
  },
  {
   "cell_type": "code",
   "execution_count": 6,
   "metadata": {},
   "outputs": [],
   "source": [
    "#1\n",
    "op_A = 40\n",
    "\n",
    "pe_B = 49\n",
    "\n",
    "miu = 44\n",
    "\n",
    "sigma = 9\n",
    "\n",
    "d = 47\n",
    "def fun(x):\n",
    "    al, be = x\n",
    "    \n",
    "    f = np.zeros(2)\n",
    "    \n",
    "    f[0] = ((op_A * be + pe_B * al) / (al + be)) - miu\n",
    "    \n",
    "    f[1] = ((al * be * (pe_B - op_A)**2) / ((al + be)**2 * (1 + al + be)) -sigma)\n",
    "    \n",
    "    return f\n"
   ]
  },
  {
   "cell_type": "code",
   "execution_count": 7,
   "metadata": {},
   "outputs": [
    {
     "data": {
      "text/plain": [
       "(0.5432098765398357, 0.6790123456890043)"
      ]
     },
     "execution_count": 7,
     "metadata": {},
     "output_type": "execute_result"
    }
   ],
   "source": [
    "alpha, beta = fsolve(fun, (1,1))\n",
    "alpha,beta"
   ]
  },
  {
   "cell_type": "code",
   "execution_count": 8,
   "metadata": {},
   "outputs": [
    {
     "data": {
      "text/plain": [
       "0.7677251926284654"
      ]
     },
     "execution_count": 8,
     "metadata": {},
     "output_type": "execute_result"
    }
   ],
   "source": [
    "prob_beta = st.beta(a = alpha,b = beta, loc = op_A, scale = pe_B - op_A).cdf(d)\n",
    "prob_beta"
   ]
  },
  {
   "cell_type": "code",
   "execution_count": 9,
   "metadata": {},
   "outputs": [
    {
     "data": {
      "image/png": "[encoded data removed]",
      "text/plain": [
       "<Figure size 432x288 with 1 Axes>"
      ]
     },
     "metadata": {
      "needs_background": "light"
     },
     "output_type": "display_data"
    }
   ],
   "source": [
    "fig, ax = plt.subplots(1, 1)\n",
    "def dist_beta(alpha, beta, miu, sigma):\n",
    "    x = np.linspace(st.beta.ppf(0.01, alpha, beta, loc = miu, scale = sigma),\n",
    "                    st.beta.ppf(0.99, alpha, beta, loc = miu, scale = sigma), 100)\n",
    "    ax.plot(x, st.beta.pdf(x, alpha, beta, loc = miu, scale = sigma),'c-', lw = 6,  label='Dist. beta')\n",
    "dist_beta(alpha, beta, miu, sigma)"
   ]
  },
  {
   "cell_type": "markdown",
   "metadata": {},
   "source": [
    " > **Ejercicio 2.**.Suponer que $T$ distribuye triangular donde el valor mas probable es $\\mu_p$ el valor pesimista es $p=49$ y el valor optimista es $o=40$ y responder cual es la probabilidad $P(T\\leq d)$. Nuevamente aprender a graficar una función triangular en un intervalro [a,b], usando el help.\n"
   ]
  },
  {
   "cell_type": "markdown",
   "metadata": {},
   "source": [
    "### Solucion Nicolas"
   ]
  },
  {
   "cell_type": "code",
   "execution_count": 10,
   "metadata": {},
   "outputs": [],
   "source": [
    "# Poner datos iniciales\n",
    "pesimista, mu, optimista, = 40, 44, 49\n",
    "\n",
    "# Obtener los parametros de la distribucion triangular \n",
    "c = (mu - pesimista) / (optimista - pesimista)\n",
    "loc = pesimista\n",
    "scale = optimista - pesimista"
   ]
  },
  {
   "cell_type": "code",
   "execution_count": 16,
   "metadata": {},
   "outputs": [
    {
     "data": {
      "image/png": "[encoded data removed]",
      "text/plain": [
       "<Figure size 900x288 with 2 Axes>"
      ]
     },
     "metadata": {
      "needs_background": "light"
     },
     "output_type": "display_data"
    }
   ],
   "source": [
    "# obtener la probability density function\n",
    "x = np.arange(pesimista, optimista,0.01)\n",
    "triang_pdf = st.triang.pdf(x = x, c = c, scale = scale, loc = loc)\n",
    "\n",
    "# obtener la distribucion de probabilidad acumulada\n",
    "triang_cdf = st.triang.cdf(x = x, c = c, scale = scale, loc = loc)\n",
    "\n",
    "# subplots\n",
    "fig,(ax1,ax2) = plt.subplots(1,2)\n",
    "fig.set_figwidth(12.5)\n",
    "\n",
    "# grafica PDF\n",
    "ax1.plot(x,triang_pdf,c='yellow')\n",
    "ax1.set_title('PROBABILITY DENSITY FUNCTION')\n",
    "plt.grid()\n",
    "\n",
    "# grafica CDF\n",
    "ax2.plot(x,triang_cdf,c='yellow')\n",
    "ax2.set_title('CUMULATIVE DISTRIBUTION FUNCTION')\n",
    "plt.grid()\n",
    "\n",
    "plt.show()"
   ]
  },
  {
   "cell_type": "code",
   "execution_count": 12,
   "metadata": {},
   "outputs": [
    {
     "name": "stdout",
     "output_type": "stream",
     "text": [
      "P(T<=47)= 0.9111111111111111\n"
     ]
    }
   ],
   "source": [
    "# Obtener la probabilidad de acabar la construccion en 47 semanas segun dist. triangular\n",
    "P_triang = st.triang(c = c, scale = scale, loc = loc).cdf(d)\n",
    "print('P(T<=47)=',P_triang)"
   ]
  },
  {
   "cell_type": "markdown",
   "metadata": {},
   "source": [
    "### **La probabilidad de acabar la construccion en 47 semanas, segun la distribucion triangular es de 91.11%**"
   ]
  },
  {
   "cell_type": "markdown",
   "metadata": {},
   "source": [
    "### Solucion Doris"
   ]
  },
  {
   "cell_type": "code",
   "execution_count": 13,
   "metadata": {},
   "outputs": [
    {
     "data": {
      "text/plain": [
       "0.9111111111111111"
      ]
     },
     "execution_count": 13,
     "metadata": {},
     "output_type": "execute_result"
    }
   ],
   "source": [
    "#2\n",
    "\n",
    "c = (miu - op_A)/(pe_B - op_A)\n",
    "\n",
    "Prob_T = st.triang(c, loc = op_A, scale = (pe_B - op_A)).cdf(d)\n",
    "Prob_T\n"
   ]
  },
  {
   "cell_type": "code",
   "execution_count": 14,
   "metadata": {},
   "outputs": [
    {
     "data": {
      "text/plain": [
       "[<matplotlib.lines.Line2D at 0x1ee15c45280>]"
      ]
     },
     "execution_count": 14,
     "metadata": {},
     "output_type": "execute_result"
    },
    {
     "data": {
      "image/png": "[encoded data removed]",
      "text/plain": [
       "<Figure size 432x288 with 1 Axes>"
      ]
     },
     "metadata": {
      "needs_background": "light"
     },
     "output_type": "display_data"
    }
   ],
   "source": [
    "fig, ax = plt.subplots(1, 1)\n",
    "x = np.linspace(st.triang.ppf(0.01, c, loc = op_A, scale = (pe_B - op_A)), st.triang.ppf(0.99, c, loc = op_A, scale = (pe_B - op_A)), 100)\n",
    "ax.plot(x, st.triang.pdf(x, c, loc = op_A, scale = (pe_B - op_A)), 'tomato',lw = 6, alpha=0.6, label='Dist tri')"
   ]
  },
  {
   "cell_type": "markdown",
   "metadata": {},
   "source": [
    "### Respuesta planteada en el ejercicio usando (markdown)"
   ]
  },
  {
   "cell_type": "markdown",
   "metadata": {},
   "source": [
    "> **EJERCICIO 1.** La probabilidad de acabar la construccion en 47 semanas, segun la distribucion beta es de 76.77%"
   ]
  },
  {
   "cell_type": "markdown",
   "metadata": {},
   "source": [
    "> **EJERCICIO 2.** La probabilidad de acabar la construccion en 47 semanas, segun la distribucion triangular es de 91.11%"
   ]
  }
 ],
 "metadata": {
  "kernelspec": {
   "display_name": "Python 3",
   "language": "python",
   "name": "python3"
  },
  "language_info": {
   "codemirror_mode": {
    "name": "ipython",
    "version": 3
   },
   "file_extension": ".py",
   "mimetype": "text/x-python",
   "name": "python",
   "nbconvert_exporter": "python",
   "pygments_lexer": "ipython3",
   "version": "3.8.3"
  }
 },
 "nbformat": 4,
 "nbformat_minor": 2
}
