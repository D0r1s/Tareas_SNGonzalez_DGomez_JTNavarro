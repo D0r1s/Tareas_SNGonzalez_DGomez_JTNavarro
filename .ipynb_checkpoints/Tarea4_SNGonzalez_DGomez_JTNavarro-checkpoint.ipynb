{
 "cells": [
  {
   "cell_type": "markdown",
   "metadata": {},
   "source": [
    "<img style=\"float: left; margin: 30px 15px 15px 15px;\" src=\"https://pngimage.net/wp-content/uploads/2018/06/logo-iteso-png-5.png\" width=\"300\" height=\"500\" /> \n",
    "    \n",
    "    \n",
    "### <font color='navy'> Simulación de procesos financieros. \n",
    "\n",
    "**Nombres:** Sean Nicolás González Vázquez, Doris Gomez Contreras, José Tonatiuh Navarro Silva.\n",
    "\n",
    "**Fecha:** 6 de octubre del 2020.\n",
    "\n",
    "**Expediente** : 720083, EXPEDIENTE DORIS, 723399\n",
    "**Profesor:** Oscar David Jaramillo Zuluaga.\n",
    "\n",
    "# Tarea 4: Ejercicios clase 9 y 10"
   ]
  },
  {
   "cell_type": "markdown",
   "metadata": {},
   "source": [
    "### El link donde se evidencia el trabajo es el siguiente: [GitHub Repositorio](https://github.com/nicoglez/Tareas_SNGonzalez_DGomez_JTNavarro)"
   ]
  },
  {
   "cell_type": "markdown",
   "metadata": {},
   "source": [
    "# Enunciado de tarea \n",
    "\n",
    ">### <font color ='red'> **EJERCICIOS CLASE 9**   \n",
    "    \n",
    "  \n",
    "> **1. Generación variable aleatoria continua**\n",
    ">El tiempo en el cual un movimiento browniano se mantiene sobre su punto máximo en el intervalo [0,1] tiene una distribución\n",
    ">$$F(x)=\\frac{2}{\\pi}\\sin^{-1}(\\sqrt x),\\quad 0\\leq x\\leq 1$$ </font>\n",
    "\n",
    "> **2. Generación variable aleatoria Discreta**\n",
    "> La distribución binomial modela el número de éxitos de n ensayos independientes donde hay una probabilidad p de éxito en cada ensayo.\n",
    "> Generar una variable aletoria binomial con parámetros $n=10$ y $p=0.7$. Recordar que $$X\\sim binomial(n,p) \\longrightarrow p_i=P(X=i)=\\frac{n!}{i!(n-i)!}p^i(1-p)^{n-i},\\quad i=0,1,\\cdots,n$$\n",
    "> Por propiedades de la operación factorial la anterior $p_i$ se puede escribir como:\n",
    "> $$p_{i+1}=\\frac{n-i}{i+1}\\frac{p}{1-p} p_i $$\n",
    "\n",
    "Genere muestres aleatorias que distribuyan según la función dada usando el método de la transformada inversa y grafique el histograma de 100 muestras generadas con el método y compárela con el función $f(x)$ dada, esto con el fín de validar que el procedimiento fue realizado de manera correcta"
   ]
  },
  {
   "cell_type": "markdown",
   "metadata": {},
   "source": [
    ">### <font color ='red'> **EJERCICIOS CLASE 10**\n",
    "    \n",
    ">1. Ejemplo binomial: \n",
    "La distribución binomial modela el número de éxitos de n ensayos independientes donde hay una probabilidad p de éxito en cada ensayo.\n",
    ">Generar una variable aletoria binomial con parámetros $n=10$ y $p=0.7$. Recordar que\n",
    ">$$X\\sim binomial(n,p) \\longrightarrow p_i=P(X=i)=\\frac{n!}{i!(n-i)!}p^i(1-p)^{n-i},\\quad i=0,1,\\cdots,n$$\n",
    "> Demostrar la validez de la siguiente ecuación\n",
    ">$$p_{i+1}=\\frac{n-i}{i+1}\\frac{p}{1-p} p_i \\longrightarrow \\text{Hablar de las ventajas que sea recursiva}$$\n",
    "\n",
    "\n",
    ">2. Seguir un procedimiento similar al mostrado cuando se generó una distribución binomial, pero en esta caso genere un código que genere variables aletorias Poisson cuya función de distribución de probabilidad esta dada por:\n",
    ">$$P(k,\\lambda)=\\frac{e^{-\\lambda}(\\lambda)^k}{k!}$$\n",
    "> Demuestre matemáticamente que \n",
    "> $$P(k+1)=\\frac{\\lambda}{k+1}P(k)$$\n",
    "> y a partir de esta relación genere variables aletorias que distribuyen poisson usando el método de la transformada inversa.\n",
    "\n",
    "\n",
    "> 3. Partiendo que se desea generar variables aleatorias para la siguiente función de densidad\n",
    ">$$f(x)=30(x^2-2x^3+x^4)$$\n",
    ">Responda los siguientes literales:  \n",
    "\n",
    "* 3.1. Usar como función que mayora a $f(x)$ a $t(x)=a \\sin(\\pi x)$ donde a es el máximo de la función $f(x)$ y graficarlas en una misma gráfica, para validar que en realidad si cumple la condición $t(x)\\geq f(x)$.  \n",
    "\n",
    "* 3.2. Encontrar la función de densidad $g(x)$ según lo visto en clase. Reportar todos los cálculos realizados para encontrar dicha función usando Markdown (Latex).  \n",
    "\n",
    "* 3.3. Usar la función encontrada en el punto 2 y utilizar el método de la transformada inversa visto en la clase 9, para generar variables aleatorias que sigan la distribución $g(x)$. **Nota:** Recuerde que el método de la transformada inversa funciona con la distribución de probabilidad acumulada y no con su densidad. Nuevamente similar al punto anterior reportar todos los cálculos usando Markdown (Latex).   \n",
    "\n",
    "* 3.4. Según el punto 3, generar 10000 puntos aleatorios que sigan la distribución $g(x)$ y comparar con su histograma para validar que los puntos generados siguen la distribución deseada.\n",
    "\n",
    "* 3.5. Genere 500 puntos aleatorios usando el método de aceptación y rechazo y las funciones $f(x)$ y $t(x)$ para validar que todos los cálculos anteriores están correctamente realizados.\n",
    "  \n",
    "* 3.6. Comparar el porcentaje de puntos de aceptación cuando se usa $t(x)$ constante y $t(x)$ un pulso senoidal. Concluir\n",
    "\n",
    ">4 Genere una variable aleatoria $X$ a partir de la siguiente PDF\n",
    "$$f(x)=20x(1-x)^3$$ usando el método de aceptación y rechazo"
   ]
  },
  {
   "cell_type": "code",
   "execution_count": 1,
   "metadata": {},
   "outputs": [],
   "source": [
    "import numpy as np\n",
    "import matplotlib.pyplot as plt\n",
    "from scipy import optimize\n",
    "\n",
    "%matplotlib inline"
   ]
  },
  {
   "cell_type": "markdown",
   "metadata": {},
   "source": [
    "### <font color ='red'> **EJERCICIOS CLASE 9**  "
   ]
  },
  {
   "cell_type": "markdown",
   "metadata": {},
   "source": [
    "**EJERCICIO 1. Generación variable aleatoria continua**  \n",
    "\n",
    "El tiempo en el cual un movimiento browniano se mantiene sobre su punto máximo en el intervalo [0,1] tiene una distribución\n",
    "$$F(x)=\\frac{2}{\\pi}\\sin^{-1}(\\sqrt x),\\quad 0\\leq x\\leq 1$$ </font>\n",
    "\n",
    "Genere muestres aleatorias que distribuyan según la función dada usando el método de la transformada inversa y grafique el histograma de 100 muestras generadas con el método y compárela con el función $f(x)$ dada, esto con el fín de validar que el procedimiento fue realizado de manera correcta"
   ]
  },
  {
   "cell_type": "markdown",
   "metadata": {},
   "source": [
    "### <font color ='Orange'> **Solucion Nicolas** "
   ]
  },
  {
   "cell_type": "markdown",
   "metadata": {},
   "source": [
    "**1. Sacar funcion inversa**\n",
    "\n",
    "Sabiendo que x esta entre 0 y 1 podemos:\n",
    "\n",
    "$F(X) =U \\sim \\text{Uniforme[0,1]}$\n",
    "\n",
    "Entonces, procedemos a obtener la inversa de la funcion, para hacer el metodo de la transformada inversa, asi, al hacer los siguientes pasos:\n",
    "\n",
    "$\\frac{U\\pi}{2} = \\sin^{-1}(\\sqrt x)$\n",
    "\n",
    "$\\sin(\\frac{U\\pi}{2}) = \\sqrt x$\n",
    "\n",
    "Obtenemos:\n",
    "\n",
    "$x = \\sin^{2}(\\frac{U\\pi}{2})$\n",
    "\n",
    "**2. Obtener funcion de densidad**\n",
    "\n",
    "$f(x) = \\frac{2}{\\pi}\\frac{d}{dx}\\sin^{-1}(\\sqrt x)$\n",
    "\n",
    "Derivamos por metodo de sustitucion, simplificamos y obtenemos:\n",
    "\n",
    "$f(x) = \\frac{2}{2\\pi\\sqrt x \\sqrt (1-\\sqrt x ^2)} = \\frac{1}{\\pi\\sqrt x \\sqrt (1-x)}$\n",
    "\n"
   ]
  },
  {
   "cell_type": "code",
   "execution_count": 2,
   "metadata": {},
   "outputs": [],
   "source": [
    "# Definir las funciones obtenidas y definir numero de observaciones\n",
    "fx = lambda x: 1/((np.pi)*np.sqrt(1-x)*np.sqrt(x))\n",
    "Fuinversa = lambda U: np.sin(U*np.pi/2)**2\n",
    "N = 10**5"
   ]
  },
  {
   "cell_type": "code",
   "execution_count": 3,
   "metadata": {},
   "outputs": [
    {
     "name": "stderr",
     "output_type": "stream",
     "text": [
      "<ipython-input-2-403dac2454a0>:2: RuntimeWarning: divide by zero encountered in true_divide\n",
      "  fx = lambda x: 1/((np.pi)*np.sqrt(1-x)*np.sqrt(x))\n"
     ]
    },
    {
     "data": {
      "image/png": "[encoded data removed]",
      "text/plain": [
       "<Figure size 432x288 with 1 Axes>"
      ]
     },
     "metadata": {
      "needs_background": "light"
     },
     "output_type": "display_data"
    },
    {
     "data": {
      "text/plain": [
       "array([0.99126708, 0.60118593, 0.24812297, ..., 0.02062771, 0.86459724,\n",
       "       0.0927414 ])"
      ]
     },
     "execution_count": 3,
     "metadata": {},
     "output_type": "execute_result"
    }
   ],
   "source": [
    "# Generar variables aleatorias y comparar \n",
    "\n",
    "def comparacion_fx_fin(fx: 'Funcion fx ', Fin: 'Funcion Inversa' , N: 'Numero de va a generar' ):\n",
    "    '''\n",
    "    Funcion para comparar una funcion fx con el histograma de una funcion inversa\n",
    "    '''\n",
    "    u = np.random.uniform(0,1,N)\n",
    "    f_random = Fin(u)\n",
    "    x = np.arange(0,1,0.01)\n",
    "    func = fx(x)\n",
    "    plt.hist(f_random, bins = 40, density = True)\n",
    "    plt.plot(x, func)\n",
    "    plt.show();  \n",
    "    va = f_random\n",
    "    \n",
    "    return va\n",
    "    \n",
    "comparacion_fx_fin(fx,Fuinversa, N)"
   ]
  },
  {
   "cell_type": "markdown",
   "metadata": {},
   "source": [
    "### <font color ='Orange'> **Solucion Doris** "
   ]
  },
  {
   "cell_type": "code",
   "execution_count": null,
   "metadata": {},
   "outputs": [],
   "source": []
  },
  {
   "cell_type": "code",
   "execution_count": null,
   "metadata": {},
   "outputs": [],
   "source": []
  },
  {
   "cell_type": "code",
   "execution_count": null,
   "metadata": {},
   "outputs": [],
   "source": []
  },
  {
   "cell_type": "code",
   "execution_count": null,
   "metadata": {},
   "outputs": [],
   "source": []
  },
  {
   "cell_type": "code",
   "execution_count": null,
   "metadata": {},
   "outputs": [],
   "source": []
  },
  {
   "cell_type": "code",
   "execution_count": null,
   "metadata": {},
   "outputs": [],
   "source": []
  },
  {
   "cell_type": "markdown",
   "metadata": {},
   "source": [
    "### <font color ='Orange'> **Solucion Jose** "
   ]
  },
  {
   "cell_type": "code",
   "execution_count": 4,
   "metadata": {},
   "outputs": [],
   "source": [
    "# NO SUBIO EL TRABAJO "
   ]
  },
  {
   "cell_type": "markdown",
   "metadata": {},
   "source": [
    "**EJERCICIO 2. Generación variable aleatoria Discreta**  \n",
    "\n",
    " La distribución binomial modela el número de éxitos de n ensayos independientes donde hay una probabilidad p de éxito en cada ensayo.\n",
    " Generar una variable aletoria binomial con parámetros $n=10$ y $p=0.7$. Recordar que $$X\\sim binomial(n,p) \\longrightarrow p_i=P(X=i)=\\frac{n!}{i!(n-i)!}p^i(1-p)^{n-i},\\quad i=0,1,\\cdots,n$$\n",
    " Por propiedades de la operación factorial la anterior $p_i$ se puede escribir como:\n",
    "$$p_{i+1}=\\frac{n-i}{i+1}\\frac{p}{1-p} p_i $$\n",
    "\n",
    "Genere muestres aleatorias que distribuyan según la función dada usando el método de la transformada inversa y grafique el histograma de 100 muestras generadas con el método y compárela con el función $f(x)$ dada, esto con el fín de validar que el procedimiento fue realizado de manera correcta"
   ]
  },
  {
   "cell_type": "markdown",
   "metadata": {},
   "source": [
    "### <font color ='Orange'> **Solucion Nicolas** "
   ]
  },
  {
   "cell_type": "code",
   "execution_count": 12,
   "metadata": {},
   "outputs": [],
   "source": [
    "def gen_discreta(U:'vector de números aleatorios',\n",
    "                       p_acum: 'P.Acumulada de la distribución a generar'):\n",
    "    '''Tener en cuenta que este arreglo cuenta números empezando del 0\n",
    "    Funcion para generar variables discretar'''\n",
    "    v = np.array(list(map(lambda j:sum(1 for i in p_acum if i<U[j]),range(N))))\n",
    "    return v\n",
    "\n",
    "def hist_discrete(distribucion:'señal de varibles aleatorias de un distribución DISCRETA dada',\n",
    "                            label:'label del legend a aparecer en el gráfica',\n",
    "                            densidad:'por defecto regresa el histograma en densidad'=True):\n",
    "    '''Funcionar para plotear el histograma de variables discretas'''\n",
    "    # len(set(distribucion)) cuenta la cantidad de elementos distintos de la variable 'distribucion'\n",
    "    plt.figure(figsize=[8,4])\n",
    "    y,x = np.histogram(distribucion,bins = len(set(distribucion)),density = densidad) \n",
    "    plt.bar(x[1:],y,label=label)\n",
    "#     print(len(y),len(x))\n",
    "    plt.legend()\n",
    "    plt.show()"
   ]
  },
  {
   "cell_type": "code",
   "execution_count": 13,
   "metadata": {},
   "outputs": [],
   "source": [
    "# Primero generar una funcion que encuentra la distribucion de probabilidad acumulada\n",
    "\n",
    "def P_acum(n: 'Numero de terminos',p: 'Probabilidad'):\n",
    "    '''\n",
    "    Funcion que encuentra la distribucion de probabilidad acumulada de una distribucion binomial\n",
    "    '''\n",
    "    Pr = np.zeros(n)\n",
    "    Pr[0] = (1-p)**n\n",
    "    def pr(i):\n",
    "        nonlocal Pr\n",
    "        Pr[i+1]=((p/(1-p))*(n-i)/(i+1))*Pr[i]\n",
    "        \n",
    "    # Lleno el vector Pr usando compresión de listas\n",
    "    [pr(i) for i in range(n-1)]\n",
    "    return np.cumsum(Pr)\n",
    "\n",
    "n, p, N = 10, 0.7, 10**5\n",
    "p_acum = P_acum(n,p)\n",
    "u = np.random.rand(N)"
   ]
  },
  {
   "cell_type": "code",
   "execution_count": 14,
   "metadata": {},
   "outputs": [
    {
     "data": {
      "image/png": "[encoded data removed]",
      "text/plain": [
       "<Figure size 576x288 with 1 Axes>"
      ]
     },
     "metadata": {
      "needs_background": "light"
     },
     "output_type": "display_data"
    },
    {
     "data": {
      "image/png": "[encoded data removed]",
      "text/plain": [
       "<Figure size 576x288 with 1 Axes>"
      ]
     },
     "metadata": {
      "needs_background": "light"
     },
     "output_type": "display_data"
    }
   ],
   "source": [
    "# Usando el método de la transformada inversa\n",
    "d_binomial = gen_discreta(u,p_acum)\n",
    "hist_discrete(d_binomial,'usando función creada')\n",
    "\n",
    "# Usando numpy\n",
    "d_bino_numpy = np.random.binomial(n,p,N)\n",
    "hist_discrete(d_bino_numpy,'usando numpy')"
   ]
  },
  {
   "cell_type": "markdown",
   "metadata": {},
   "source": [
    "Podemos observar anteriormente que las variables aleatorias generadas usando nuestra funcion creada son iguales a las de numpy, por lo cual, nuestra funcion creada si distribuye como una distribucion binomial"
   ]
  },
  {
   "cell_type": "markdown",
   "metadata": {},
   "source": [
    "### <font color ='Orange'> **Solucion Doris** "
   ]
  },
  {
   "cell_type": "code",
   "execution_count": null,
   "metadata": {},
   "outputs": [],
   "source": []
  },
  {
   "cell_type": "code",
   "execution_count": null,
   "metadata": {},
   "outputs": [],
   "source": []
  },
  {
   "cell_type": "code",
   "execution_count": null,
   "metadata": {},
   "outputs": [],
   "source": []
  },
  {
   "cell_type": "code",
   "execution_count": null,
   "metadata": {},
   "outputs": [],
   "source": []
  },
  {
   "cell_type": "code",
   "execution_count": null,
   "metadata": {},
   "outputs": [],
   "source": []
  },
  {
   "cell_type": "markdown",
   "metadata": {},
   "source": [
    "### <font color ='Orange'> **Solucion Jose** "
   ]
  },
  {
   "cell_type": "code",
   "execution_count": 15,
   "metadata": {},
   "outputs": [],
   "source": [
    "# No subio nada"
   ]
  },
  {
   "cell_type": "markdown",
   "metadata": {},
   "source": [
    "### <font color ='red'> **EJERCICIOS CLASE 10**"
   ]
  },
  {
   "cell_type": "markdown",
   "metadata": {},
   "source": [
    "**EJERCICIO 1. Ejemplo binomial**  \n",
    "\n",
    "La distribución binomial modela el número de éxitos de n ensayos independientes donde hay una probabilidad p de éxito en cada ensayo.\n",
    "Generar una variable aletoria binomial con parámetros $n=10$ y $p=0.7$. Recordar que\n",
    "$$X\\sim binomial(n,p) \\longrightarrow p_i=P(X=i)=\\frac{n!}{i!(n-i)!}p^i(1-p)^{n-i},\\quad i=0,1,\\cdots,n$$\n",
    " Demostrar la validez de la siguiente ecuación\n",
    "$$p_{i+1}=\\frac{n-i}{i+1}\\frac{p}{1-p} p_i \\longrightarrow \\text{Hablar de las ventajas que sea recursiva}$$\n"
   ]
  },
  {
   "cell_type": "markdown",
   "metadata": {},
   "source": [
    "### <font color ='Orange'> **Solucion Nicolas** "
   ]
  },
  {
   "cell_type": "markdown",
   "metadata": {},
   "source": [
    "Para demostrar esa ecuacion, dividimos $\\frac{p_i}{p_{i+1}}$, y obtenemos un cociente, que podemos lograr simplificar con propiedades del factorial que establecen que $n! = n(n-1)!$ y  $\\frac{n!}{(n+1)!} = \\frac{1}{n+1}$.  \n",
    "\n",
    "Así tenemos que: $\\frac{p_{i+1}}{p_i} = \\frac{n!p^ip(1-p)^ni!(n-i)!(1-p)^i}{(1-p)^i(1-p)(i+1)!(n-i+1)!n!p^i(1-p)^n}$ simplificamos y obtenemos que $\\frac{p_{i+1}}{p_i} =\\frac{(n-i)p}{(i+1)(1-p)}$ y finalmente:\n",
    "\n",
    "$$p_{i+1}=\\frac{n-i}{i+1}\\frac{p}{1-p} p_i$$"
   ]
  },
  {
   "cell_type": "markdown",
   "metadata": {},
   "source": [
    "### <font color ='Orange'> **Solucion Doris** "
   ]
  },
  {
   "cell_type": "code",
   "execution_count": null,
   "metadata": {},
   "outputs": [],
   "source": []
  },
  {
   "cell_type": "markdown",
   "metadata": {},
   "source": [
    "### <font color ='Orange'> **Solucion Jose** "
   ]
  },
  {
   "cell_type": "code",
   "execution_count": 16,
   "metadata": {},
   "outputs": [],
   "source": [
    "# No subio nada"
   ]
  },
  {
   "cell_type": "markdown",
   "metadata": {},
   "source": [
    "**EJERCICIO 2.**\n",
    "Seguir un procedimiento similar al mostrado cuando se generó una distribución binomial, pero en esta caso genere un código que genere variables aletorias Poisson cuya función de distribución de probabilidad esta dada por:\n",
    "$$P(k,\\lambda)=\\frac{e^{-\\lambda}(\\lambda)^k}{k!}$$\n",
    " Demuestre matemáticamente que \n",
    "$$P(k+1)=\\frac{\\lambda}{k+1}P(k)$$\n",
    "y a partir de esta relación genere variables aletorias que distribuyen poisson usando el método de la transformada inversa.\n",
    "\n",
    "\n"
   ]
  },
  {
   "cell_type": "markdown",
   "metadata": {},
   "source": [
    "### <font color ='Orange'> **Solucion Nicolas** "
   ]
  },
  {
   "cell_type": "markdown",
   "metadata": {},
   "source": [
    "Para demostrar la ecuacion matematicamente, se tiene en cuenta la propiedad que establece que: $k! = k(k-1)!$ y $\\frac{k!}{(k+1)!} = \\frac{1}{k+1}$, entonces se procede a dividir:\n",
    "\n",
    "$$\\frac{P(k+1)}{P(k)} = \\frac{e^{-\\lambda}\\lambda^k\\lambda k!}{(k+1)!e^{-\\lambda}\\lambda^k} = \\frac{\\lambda k!}{(k+1)!} = \\frac{\\lambda}{1+k}$$\n",
    "\n",
    "Despejamos, finalmente obteniendo y comprobando que:\n",
    "\n",
    "$$P(k+1) = \\frac{\\lambda}{k+1}P(k)$$\n",
    "\n",
    "Por lo cual se procedera a crear una funcion y generar las variables aleatorias"
   ]
  },
  {
   "cell_type": "code",
   "execution_count": 17,
   "metadata": {},
   "outputs": [],
   "source": [
    "def acum_poisson(l: 'Termino lambda', k: 'Termino K'):\n",
    "    '''Funcion para encontrar distribucion acumulada de Poisson'''\n",
    "    p_poisson = np.zeros(k)\n",
    "    p_poisson[0] = (np.exp(-l))\n",
    "    \n",
    "    def llenar(i):\n",
    "        nonlocal p_poisson\n",
    "        p_poisson[i+1] = (l*p_poisson[i])/(i+1)\n",
    "    [llenar(i) for i in range(k-1)]\n",
    "    return p_poisson.cumsum()\n",
    "\n",
    "N, l, k = 10**5, 5, 10000\n",
    "ppa = acum_poisson(l,k)\n",
    "u = np.random.rand(N)"
   ]
  },
  {
   "cell_type": "code",
   "execution_count": 18,
   "metadata": {},
   "outputs": [
    {
     "data": {
      "image/png": "[encoded data removed]",
      "text/plain": [
       "<Figure size 576x288 with 1 Axes>"
      ]
     },
     "metadata": {
      "needs_background": "light"
     },
     "output_type": "display_data"
    },
    {
     "data": {
      "image/png": "[encoded data removed]",
      "text/plain": [
       "<Figure size 576x288 with 1 Axes>"
      ]
     },
     "metadata": {
      "needs_background": "light"
     },
     "output_type": "display_data"
    }
   ],
   "source": [
    "# Usando el método de la transformada inversa\n",
    "d_poisson = gen_discreta(u,ppa)\n",
    "hist_discrete(d_poisson,'usando función creada')\n",
    "\n",
    "# Usando numpy\n",
    "d_pois_numpy = np.random.poisson(l,k)\n",
    "hist_discrete(d_pois_numpy,'usando numpy')"
   ]
  },
  {
   "cell_type": "markdown",
   "metadata": {},
   "source": [
    "Podemos observar anteriormente que las variables aleatorias generadas usando nuestra funcion creada son iguales a las de numpy, por lo cual, nuestra funcion creada si distribuye como una distribucion poisson"
   ]
  },
  {
   "cell_type": "markdown",
   "metadata": {},
   "source": [
    "### <font color ='Orange'> **Solucion Doris** "
   ]
  },
  {
   "cell_type": "code",
   "execution_count": null,
   "metadata": {},
   "outputs": [],
   "source": []
  },
  {
   "cell_type": "code",
   "execution_count": null,
   "metadata": {},
   "outputs": [],
   "source": []
  },
  {
   "cell_type": "code",
   "execution_count": null,
   "metadata": {},
   "outputs": [],
   "source": []
  },
  {
   "cell_type": "code",
   "execution_count": null,
   "metadata": {},
   "outputs": [],
   "source": []
  },
  {
   "cell_type": "markdown",
   "metadata": {},
   "source": [
    "### <font color ='Orange'> **Solucion Jose** "
   ]
  },
  {
   "cell_type": "code",
   "execution_count": 19,
   "metadata": {},
   "outputs": [],
   "source": [
    "# No subio nada"
   ]
  },
  {
   "cell_type": "markdown",
   "metadata": {},
   "source": [
    "**EJERCICIO 3.**\n",
    "Partiendo que se desea generar variables aleatorias para la siguiente función de densidad\n",
    "$$f(x)=30(x^2-2x^3+x^4)$$\n",
    "Responda los siguientes literales.  \n",
    "\n",
    "* 3.1. Usar como función que mayora a $f(x)$ a $t(x)=a \\sin(\\pi x)$ donde a es el máximo de la función $f(x)$ y graficarlas en una misma gráfica, para validar que en realidad si cumple la condición $t(x)\\geq f(x)$.  \n",
    "* 3.2. Encontrar la función de densidad $g(x)$ según lo visto en clase. Reportar todos los cálculos realizados para encontrar dicha función usando Markdown (Latex).  \n",
    "\n",
    "* 3.3. Usar la función encontrada en el punto 2 y utilizar el método de la transformada inversa visto en la clase 9, para generar variables aleatorias que sigan la distribución $g(x)$. **Nota:** Recuerde que el método de la transformada inversa funciona con la distribución de probabilidad acumulada y no con su densidad. Nuevamente similar al punto anterior reportar todos los cálculos usando Markdown (Latex).   \n",
    "\n",
    "* 3.4. Según el punto 3, generar 10000 puntos aleatorios que sigan la distribución $g(x)$ y comparar con su histograma para validar que los puntos generados siguen la distribución deseada.\n",
    "\n",
    "* 3.5. Genere 500 puntos aleatorios usando el método de aceptación y rechazo y las funciones $f(x)$ y $t(x)$ para validar que todos los cálculos anteriores están correctamente realizados.\n",
    "  \n",
    "* 3.6. Comparar el porcentaje de puntos de aceptación cuando se usa $t(x)$ constante y $t(x)$ un pulso senoidal. Concluir\n"
   ]
  },
  {
   "cell_type": "markdown",
   "metadata": {},
   "source": [
    "### <font color ='Orange'> **Solucion Nicolas** "
   ]
  },
  {
   "cell_type": "code",
   "execution_count": 21,
   "metadata": {},
   "outputs": [
    {
     "data": {
      "image/png": "[encoded data removed]",
      "text/plain": [
       "<Figure size 432x288 with 1 Axes>"
      ]
     },
     "metadata": {
      "needs_background": "light"
     },
     "output_type": "display_data"
    }
   ],
   "source": [
    "# Inciso 1\n",
    "\n",
    "f = lambda x: 30*(x**2 - 2*x**3 + x**4)\n",
    "a = f(optimize.fmin(lambda x:-f(x),0,disp=False))\n",
    "t = lambda x: a * np.sin(np.pi * x)\n",
    "N = 10**3\n",
    "\n",
    "def comparacion_f_t(f: 'f(x)', t:'f(t)', N:'Numero de terminos'):\n",
    "    '''\n",
    "    Funcion para comparar dos funciones desde el dom de 0 a 1\n",
    "    '''\n",
    "    x_1 = np.arange(0,1,0.01)\n",
    "    f_1 = f(x_1)\n",
    "    x_2 = np.arange(0,1,0.01)\n",
    "    f_2 = t(x_2)\n",
    "    \n",
    "    plt.plot(x_1, f_1)\n",
    "    plt.plot(x_2, f_2)\n",
    "    plt.show();\n",
    "\n",
    "comparacion_f_t(f,t,N)\n"
   ]
  },
  {
   "cell_type": "markdown",
   "metadata": {},
   "source": [
    "##### Inciso 2\n",
    "\n",
    "* Encontrar c\n",
    "\n",
    "$$c = \\int_{0}^{1}t(x)dx = \\int_{0}^{1} asin(\\pi x) dx = \\frac{-a}{\\pi}[cos(\\pi x)]_{0}^{1} = \\frac{2a}{\\pi}$$\n",
    "                                           \n",
    "* Encontrar g(x)\n",
    "\n",
    "$$g(x) = \\frac{t(x)}{c} = \\frac{\\frac{asin(\\pi x)}{1}}{\\frac{2a}{\\pi}} = \\frac{\\pi sin(\\pi x)}{2} $$\n",
    "\n",
    "Finalmente:\n",
    "\n",
    "$$g(x) = \\frac{\\pi sin(\\pi x)}{2} $$"
   ]
  },
  {
   "cell_type": "markdown",
   "metadata": {},
   "source": [
    "#### Inciso 3\n",
    "\n",
    "* Encontrar funcion de distribucion acumulada: G(x)   \n",
    "\n",
    "Sustituimos $G(x)$ e integramos:\n",
    "\n",
    "$$G(x) = \\int_{0}^{x}g(x) = \\int_{0}^{x}\\frac{\\pi}{2}sin(\\pi x) = -\\frac{1}{2}[cos(\\pi x)]_{0}^{x}$$\n",
    "\n",
    "Entonces tenemos que la funcion de distribucion acumulada:\n",
    "\n",
    "$$ G(x) = -\\frac{1}{2}cos(\\pi x) + \\frac{1}{2}$$\n",
    "\n",
    "* Metodo de la transformada inversa encontrar una funcion que encuentre v.a. y distribuya como f(x)\n",
    "\n",
    "$$ G(x) = -\\frac{1}{2}cos(\\pi x) + \\frac{1}{2}$$\n",
    "$$ U = -\\frac{1}{2}cos(\\pi x) + \\frac{1}{2}$$\n",
    "$$ x = \\frac{cos^{-1}(1-2U)}{\\pi}$$"
   ]
  },
  {
   "cell_type": "code",
   "execution_count": 22,
   "metadata": {},
   "outputs": [
    {
     "data": {
      "image/png": "[encoded data removed]",
      "text/plain": [
       "<Figure size 432x288 with 1 Axes>"
      ]
     },
     "metadata": {
      "needs_background": "light"
     },
     "output_type": "display_data"
    }
   ],
   "source": [
    "# Inciso 4\n",
    "\n",
    "g = lambda x: (np.pi/2)*(np.sin(np.pi*x))\n",
    "Gin = lambda u: ((np.arccos(2*(1/2-u)))/np.pi)\n",
    "N = 10**5\n",
    "\n",
    "comparacion_fx_fin(g,Gin,N)"
   ]
  },
  {
   "cell_type": "code",
   "execution_count": 23,
   "metadata": {},
   "outputs": [
    {
     "data": {
      "image/png": "[encoded data removed]",
      "text/plain": [
       "<Figure size 432x288 with 1 Axes>"
      ]
     },
     "metadata": {
      "needs_background": "light"
     },
     "output_type": "display_data"
    }
   ],
   "source": [
    "# Inciso 5\n",
    "\n",
    "def acep_rechazo_plot(R2:'Variables distruidas U~U(0,1)',\n",
    "                 R1:'Variables distribuidas como g(x)',\n",
    "                 f:'función objetivo a generar',\n",
    "                 t:'función que mayora a f'):\n",
    "    '''\n",
    "    Funcion para plotear el metodo de aceptacion rechazo\n",
    "    '''\n",
    "#     R1 = np.random.rand(N)\n",
    "    f_x = f(R1)\n",
    "    t_x = t(R1)\n",
    "    condition = R2*t_x <=f_x\n",
    "    [plt.plot(R1[i],R2[i]*t_x[i],'ob') if condition[i] else plt.plot(R1[i],R2[i]*t_x[i],'o') \\\n",
    "         for i in range(len(R1))]          \n",
    "    plt.show()\n",
    "    \n",
    "f = lambda x:30*(x**2-2*x**3+x**4)\n",
    "t = lambda x: a * np.sin(np.pi * x)\n",
    "\n",
    "\n",
    "N = 500\n",
    "x = np.arange(0,1,0.01)\n",
    "plt.plot(x,f(x),label='f(x)')\n",
    "plt.plot(x,t(x),label='t(x)')\n",
    "plt.legend()\n",
    "\n",
    "R2 = np.random.rand(N)\n",
    "R1 = np.random.uniform(0,1,N)\n",
    "\n",
    "acep_rechazo_plot(R2,R1,f,t)"
   ]
  },
  {
   "cell_type": "code",
   "execution_count": 24,
   "metadata": {},
   "outputs": [
    {
     "data": {
      "text/plain": [
       "(0.688, 0.546)"
      ]
     },
     "execution_count": 24,
     "metadata": {},
     "output_type": "execute_result"
    }
   ],
   "source": [
    "# Inciso 6\n",
    "# porcentaje de aceptacion senoidal vs ct\n",
    "# Modificar funcion para en vez de hacer plot regrese variables aleatorias\n",
    "\n",
    "def acep_rechazo_aleatorias(R2:'Variables distruidas U~U(0,1)',\n",
    "                 R1:'Variables distribuidas como g(x)',\n",
    "                 f:'función objetivo a generar',\n",
    "                 t:'función que mayora a f'):\n",
    "    '''Funcion para generar variables aleatorias con el metodo de aceptacion rechazo'''\n",
    "    f_x = f(R1)\n",
    "    t_x = t(R1)\n",
    "    condition = R2*t_x <=f_x\n",
    "    return [R1[i] for i in range(len(R1)) if condition[i]]          \n",
    "    \n",
    "    \n",
    "f = lambda x:30*(x**2-2*x**3+x**4)\n",
    "t_senoidal = lambda x: a * np.sin(np.pi * x)\n",
    "t_cte = lambda x: a  * np.ones(len(x))\n",
    "\n",
    "N = 500\n",
    "R2 = np.random.rand(N)\n",
    "R1 = np.random.uniform(0,1,N)\n",
    "\n",
    "aleatorias_senoidal = acep_rechazo_aleatorias(R2,R1,f,t_senoidal) # GENERAR VARIABLES ALEATORIAS CON PULSO SENOIDAL\n",
    "aleatorias_cte = acep_rechazo_aleatorias(R2,R1,f,t_cte) # GENERAR VARIABLES ALEATORIAS CON CTE\n",
    "\n",
    "len(aleatorias_senoidal)/N, len(aleatorias_cte) / N"
   ]
  },
  {
   "cell_type": "markdown",
   "metadata": {},
   "source": [
    "Podemos observar que el porcentaje de aceptacion usando una t(x) senoidal fue de 68%, mientras que usando una t(x) constante fue de aproximadamente 50%, por lo cual, se puede concluir que usar una funcion senoidal multiplicada por el maximo si aumenta la cantidad de variables aleatorias aceptadas en el metodo de aceptacion rechazo al menos en esta funcion, lo cual no podria ser cierto para una funcion diferente.\n",
    "\n",
    "Pero al menos aqui, podemos ver que si hubo una diferencia significativa entre usar la funcion senoidal como t(x) y la cte como t(x)"
   ]
  },
  {
   "cell_type": "markdown",
   "metadata": {},
   "source": [
    "### <font color ='Orange'> **Solucion Doris** "
   ]
  },
  {
   "cell_type": "code",
   "execution_count": null,
   "metadata": {},
   "outputs": [],
   "source": []
  },
  {
   "cell_type": "code",
   "execution_count": null,
   "metadata": {},
   "outputs": [],
   "source": []
  },
  {
   "cell_type": "code",
   "execution_count": null,
   "metadata": {},
   "outputs": [],
   "source": []
  },
  {
   "cell_type": "code",
   "execution_count": null,
   "metadata": {},
   "outputs": [],
   "source": []
  },
  {
   "cell_type": "code",
   "execution_count": null,
   "metadata": {},
   "outputs": [],
   "source": []
  },
  {
   "cell_type": "code",
   "execution_count": null,
   "metadata": {},
   "outputs": [],
   "source": []
  },
  {
   "cell_type": "markdown",
   "metadata": {},
   "source": [
    "### <font color ='Orange'> **Solucion Jose** "
   ]
  },
  {
   "cell_type": "code",
   "execution_count": 25,
   "metadata": {},
   "outputs": [],
   "source": [
    "# No subio nada"
   ]
  },
  {
   "cell_type": "markdown",
   "metadata": {},
   "source": [
    "**EJERCICIO 4**  \n",
    "\n",
    "Genere una variable aleatoria $X$ a partir de la siguiente PDF\n",
    "$$f(x)=20x(1-x)^3$$ usando el método de aceptación y rechazo"
   ]
  },
  {
   "cell_type": "markdown",
   "metadata": {},
   "source": [
    "### <font color ='Orange'> **Solucion Nicolas** "
   ]
  },
  {
   "cell_type": "code",
   "execution_count": 26,
   "metadata": {},
   "outputs": [
    {
     "data": {
      "image/png": "[encoded data removed]",
      "text/plain": [
       "<Figure size 432x288 with 1 Axes>"
      ]
     },
     "metadata": {
      "needs_background": "light"
     },
     "output_type": "display_data"
    }
   ],
   "source": [
    "# Inciso 1\n",
    "\n",
    "f = lambda x: 20*x*(1-x)**3\n",
    "f_max = f(optimize.fmin(lambda x:-f(x),0,disp=False))\n",
    "t_cte = lambda x: f_max * np.ones(len(x))\n",
    "N = 10**3\n",
    "\n",
    "def comparacion_f_t(f: 'f(x)', t:'f(t)', N:'Numero de terminos'):\n",
    "    '''\n",
    "    Funcion para comparar dos funciones desde el dom de 0 a 1\n",
    "    '''\n",
    "    x_1 = np.arange(0,1,0.01)\n",
    "    f_1 = f(x_1)\n",
    "    x_2 = np.arange(0,1,0.01)\n",
    "    f_2 = t(x_2)\n",
    "    \n",
    "    plt.plot(x_1, f_1)\n",
    "    plt.plot(x_2, f_2)\n",
    "    plt.show();\n",
    "    \n",
    "comparacion_f_t(f,t_cte,N)\n"
   ]
  },
  {
   "cell_type": "code",
   "execution_count": 27,
   "metadata": {},
   "outputs": [
    {
     "data": {
      "image/png": "[encoded data removed]",
      "text/plain": [
       "<Figure size 432x288 with 1 Axes>"
      ]
     },
     "metadata": {
      "needs_background": "light"
     },
     "output_type": "display_data"
    }
   ],
   "source": [
    "# Como t(x) es constante, aplicamos el metodo directamente\n",
    "\n",
    "f_x = lambda x: 20*x*(1-x)**3\n",
    "f_max = f(optimize.fmin(lambda x:-f(x),0,disp=False))\n",
    "t_x = lambda x: f_max * np.ones(len(x))\n",
    "\n",
    "N = 500\n",
    "x = np.arange(0,1,0.01)\n",
    "\n",
    "R2 = np.random.rand(N)\n",
    "R1 = np.random.uniform(0,1,N)\n",
    "\n",
    "\n",
    "def acep_rechazo_plot_aleatorias(R2:'Variables distruidas U~U(0,1)',\n",
    "                 R1:'Variables distribuidas como g(x)',\n",
    "                 f:'función objetivo a generar',\n",
    "                 t:'función que mayora a f'):\n",
    "    '''Funcion para hacer el metodo de aceptacion de rechazo, que plotea las variables aceptadas y rechazadas\n",
    "    regresa las variables aleatorias aceptadas'''\n",
    "    f_x = f(R1)\n",
    "    t_x = t(R1)\n",
    "    condition = R2*t_x <=f_x\n",
    "    [plt.plot(R1[i],R2[i]*t_x[i],'ob') if condition[i] else plt.plot(R1[i],R2[i]*t_x[i],'o') \\\n",
    "         for i in range(len(R1))]          \n",
    "    plt.show()\n",
    "    return [R1[i] for i in range(len(R1)) if condition[i]]      \n",
    "\n",
    "plt.plot(x,f(x),label='f(x)')\n",
    "\n",
    "# Usar func anteriormente definida como acep_rechazo_aleatorias que genera variables aleatorias\n",
    "var_aleatorias = acep_rechazo_plot_aleatorias(R2,R1,f_x,t_x)"
   ]
  },
  {
   "cell_type": "code",
   "execution_count": 28,
   "metadata": {},
   "outputs": [
    {
     "data": {
      "text/plain": [
       "0.05093918759172589"
      ]
     },
     "execution_count": 28,
     "metadata": {},
     "output_type": "execute_result"
    }
   ],
   "source": [
    "var_aleatorias[1] #Mostrar una variable aleatoria generada"
   ]
  },
  {
   "cell_type": "markdown",
   "metadata": {},
   "source": [
    "### <font color ='Orange'> **Solucion Doris** "
   ]
  },
  {
   "cell_type": "code",
   "execution_count": null,
   "metadata": {},
   "outputs": [],
   "source": []
  },
  {
   "cell_type": "code",
   "execution_count": null,
   "metadata": {},
   "outputs": [],
   "source": []
  },
  {
   "cell_type": "code",
   "execution_count": null,
   "metadata": {},
   "outputs": [],
   "source": []
  },
  {
   "cell_type": "code",
   "execution_count": null,
   "metadata": {},
   "outputs": [],
   "source": []
  },
  {
   "cell_type": "markdown",
   "metadata": {},
   "source": [
    "### <font color ='Orange'> **Solucion Jose** "
   ]
  },
  {
   "cell_type": "code",
   "execution_count": null,
   "metadata": {},
   "outputs": [],
   "source": [
    "# No subio nada"
   ]
  },
  {
   "cell_type": "markdown",
   "metadata": {},
   "source": [
    "### Respuesta planteada en el ejercicio usando"
   ]
  },
  {
   "cell_type": "code",
   "execution_count": null,
   "metadata": {},
   "outputs": [],
   "source": []
  }
 ],
 "metadata": {
  "kernelspec": {
   "display_name": "Python 3",
   "language": "python",
   "name": "python3"
  },
  "language_info": {
   "codemirror_mode": {
    "name": "ipython",
    "version": 3
   },
   "file_extension": ".py",
   "mimetype": "text/x-python",
   "name": "python",
   "nbconvert_exporter": "python",
   "pygments_lexer": "ipython3",
   "version": "3.8.3"
  }
 },
 "nbformat": 4,
 "nbformat_minor": 2
}
